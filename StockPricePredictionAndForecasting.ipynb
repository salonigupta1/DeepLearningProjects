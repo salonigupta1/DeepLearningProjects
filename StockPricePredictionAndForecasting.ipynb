{
  "nbformat": 4,
  "nbformat_minor": 0,
  "metadata": {
    "colab": {
      "name": "StockPricePredictionAndForecasting.ipynb",
      "provenance": [],
      "authorship_tag": "ABX9TyPADKd0nRC8scjOr1bsYfo5",
      "include_colab_link": true
    },
    "kernelspec": {
      "name": "python3",
      "display_name": "Python 3"
    },
    "language_info": {
      "name": "python"
    },
    "accelerator": "GPU"
  },
  "cells": [
    {
      "cell_type": "markdown",
      "metadata": {
        "id": "view-in-github",
        "colab_type": "text"
      },
      "source": [
        "<a href=\"https://colab.research.google.com/github/salonigupta1/DeepLearningProjects/blob/main/StockPricePredictionAndForecasting.ipynb\" target=\"_parent\"><img src=\"https://colab.research.google.com/assets/colab-badge.svg\" alt=\"Open In Colab\"/></a>"
      ]
    },
    {
      "cell_type": "code",
      "metadata": {
        "id": "3Kkn-j_vKL5W"
      },
      "source": [
        "import pandas_datareader as pdr"
      ],
      "execution_count": 2,
      "outputs": []
    },
    {
      "cell_type": "code",
      "metadata": {
        "id": "2lMXYm3ZKWBv"
      },
      "source": [
        "df = pdr.get_data_tiingo('AAPL', api_key = 'f03ddc1f390d58807e2150fa85fb792eda7fd2ee')"
      ],
      "execution_count": 3,
      "outputs": []
    },
    {
      "cell_type": "code",
      "metadata": {
        "id": "crN7Qs_2L8qY"
      },
      "source": [
        "df.to_csv('AAPL.csv')"
      ],
      "execution_count": 4,
      "outputs": []
    },
    {
      "cell_type": "code",
      "metadata": {
        "id": "pcSM7YIqMDy1"
      },
      "source": [
        "import pandas as pd"
      ],
      "execution_count": 5,
      "outputs": []
    },
    {
      "cell_type": "code",
      "metadata": {
        "id": "zUQIAGRoMFxF"
      },
      "source": [
        "df = pd.read_csv('AAPL.csv')"
      ],
      "execution_count": 6,
      "outputs": []
    },
    {
      "cell_type": "code",
      "metadata": {
        "id": "bw_lC5j-MN5t"
      },
      "source": [
        "df2 = df.reset_index()['close']"
      ],
      "execution_count": 7,
      "outputs": []
    },
    {
      "cell_type": "code",
      "metadata": {
        "id": "DY9xZEhGMkCW"
      },
      "source": [
        "df1 = df.reset_index()['close']"
      ],
      "execution_count": 8,
      "outputs": []
    },
    {
      "cell_type": "code",
      "metadata": {
        "colab": {
          "base_uri": "https://localhost:8080/",
          "height": 283
        },
        "id": "b97Qx5F4qzq3",
        "outputId": "106f30ff-b093-43ea-dd37-72f34b7c4382"
      },
      "source": [
        "import matplotlib.pyplot as plt\n",
        "plt.plot(df1)"
      ],
      "execution_count": 9,
      "outputs": [
        {
          "output_type": "execute_result",
          "data": {
            "text/plain": [
              "[<matplotlib.lines.Line2D at 0x7fa4a96ff810>]"
            ]
          },
          "metadata": {},
          "execution_count": 9
        },
        {
          "output_type": "display_data",
          "data": {
            "image/png": "[encoded data removed]",
            "text/plain": [
              "<Figure size 432x288 with 1 Axes>"
            ]
          },
          "metadata": {
            "needs_background": "light"
          }
        }
      ]
    },
    {
      "cell_type": "code",
      "metadata": {
        "id": "3c5ZntmSq73t"
      },
      "source": [
        "import numpy as np"
      ],
      "execution_count": 10,
      "outputs": []
    },
    {
      "cell_type": "code",
      "metadata": {
        "id": "iUfwCJFYshX_"
      },
      "source": [
        "from sklearn.preprocessing import MinMaxScaler\n",
        "scaler = MinMaxScaler(feature_range=(0,1))\n",
        "df1 = scaler.fit_transform(np.array(df1).reshape(-1, 1))"
      ],
      "execution_count": 11,
      "outputs": []
    },
    {
      "cell_type": "code",
      "metadata": {
        "id": "FLP-o-nHtESR"
      },
      "source": [
        "training_size = int(len(df1)*0.65)\n",
        "test_size = len(df1) - training_size\n",
        "train_data, test_data = df1[0:training_size,:], df1[training_size: len(df1), :1]"
      ],
      "execution_count": 12,
      "outputs": []
    },
    {
      "cell_type": "code",
      "metadata": {
        "id": "u8tr5Jw1uTKh"
      },
      "source": [
        "import numpy"
      ],
      "execution_count": 13,
      "outputs": []
    },
    {
      "cell_type": "code",
      "metadata": {
        "id": "3C5Z9OSHwRzO"
      },
      "source": [
        "def create_dataset(dataset, time_step=1):\n",
        "  dataX, dataY = [], []\n",
        "  for i in range(len(dataset) - time_step - 1):\n",
        "    a = dataset[i:(i+time_step), 0]\n",
        "    dataX.append(a)\n",
        "    dataY.append(dataset[i+time_step, 0])\n",
        "  return numpy.array(dataX), numpy.array(dataY)\n"
      ],
      "execution_count": 14,
      "outputs": []
    },
    {
      "cell_type": "code",
      "metadata": {
        "id": "7m1m8d1awux9"
      },
      "source": [
        "time_step = 100\n",
        "X_train, y_train = create_dataset(train_data, time_step)\n",
        "X_test, y_test = create_dataset(test_data, time_step)"
      ],
      "execution_count": 15,
      "outputs": []
    },
    {
      "cell_type": "code",
      "metadata": {
        "id": "kLONcFXZ_hOR"
      },
      "source": [
        "X_train = X_train.reshape(X_train.shape[0], X_train.shape[1], 1)\n",
        "X_test = X_test.reshape(X_test.shape[0], X_test.shape[1], 1)"
      ],
      "execution_count": 16,
      "outputs": []
    },
    {
      "cell_type": "code",
      "metadata": {
        "id": "5q1P63g9A1UR"
      },
      "source": [
        "from tensorflow.keras.models import Sequential\n",
        "from tensorflow.keras.layers import Dense\n",
        "from tensorflow.keras.layers import LSTM"
      ],
      "execution_count": 17,
      "outputs": []
    },
    {
      "cell_type": "code",
      "metadata": {
        "id": "-YJYzxohBMf8"
      },
      "source": [
        "model = Sequential()\n",
        "model.add(LSTM(50, return_sequences=True, input_shape=(100, 1)))\n",
        "model.add(LSTM(50, return_sequences=True))\n",
        "model.add(LSTM(50))\n",
        "model.add(Dense(1))\n",
        "model.compile(loss = 'mean_squared_error', optimizer = 'adam')"
      ],
      "execution_count": 18,
      "outputs": []
    },
    {
      "cell_type": "code",
      "metadata": {
        "colab": {
          "base_uri": "https://localhost:8080/"
        },
        "id": "Ff5eQcoyCIeN",
        "outputId": "cd9f1bb3-cb86-4bc5-c68a-eff585a21a41"
      },
      "source": [
        "model.summary()"
      ],
      "execution_count": 19,
      "outputs": [
        {
          "output_type": "stream",
          "name": "stdout",
          "text": [
            "Model: \"sequential\"\n",
            "_________________________________________________________________\n",
            "Layer (type)                 Output Shape              Param #   \n",
            "=================================================================\n",
            "lstm (LSTM)                  (None, 100, 50)           10400     \n",
            "_________________________________________________________________\n",
            "lstm_1 (LSTM)                (None, 100, 50)           20200     \n",
            "_________________________________________________________________\n",
            "lstm_2 (LSTM)                (None, 50)                20200     \n",
            "_________________________________________________________________\n",
            "dense (Dense)                (None, 1)                 51        \n",
            "=================================================================\n",
            "Total params: 50,851\n",
            "Trainable params: 50,851\n",
            "Non-trainable params: 0\n",
            "_________________________________________________________________\n"
          ]
        }
      ]
    },
    {
      "cell_type": "code",
      "metadata": {
        "colab": {
          "base_uri": "https://localhost:8080/"
        },
        "id": "2wKUmJs7CLq2",
        "outputId": "84fae65a-e1b8-4c15-b3ce-39f8953f5899"
      },
      "source": [
        "model.fit(X_train, y_train, validation_data = (X_test, y_test), epochs = 100, batch_size = 64, verbose = 1)"
      ],
      "execution_count": 21,
      "outputs": [
        {
          "output_type": "stream",
          "name": "stdout",
          "text": [
            "Epoch 1/100\n",
            "12/12 [==============================] - 12s 192ms/step - loss: 0.0119 - val_loss: 0.0275\n",
            "Epoch 2/100\n",
            "12/12 [==============================] - 1s 82ms/step - loss: 0.0040 - val_loss: 0.0230\n",
            "Epoch 3/100\n",
            "12/12 [==============================] - 1s 82ms/step - loss: 0.0014 - val_loss: 0.0214\n",
            "Epoch 4/100\n",
            "12/12 [==============================] - 1s 82ms/step - loss: 7.5888e-04 - val_loss: 0.0235\n",
            "Epoch 5/100\n",
            "12/12 [==============================] - 1s 82ms/step - loss: 5.3932e-04 - val_loss: 0.0255\n",
            "Epoch 6/100\n",
            "12/12 [==============================] - 1s 83ms/step - loss: 5.1468e-04 - val_loss: 0.0230\n",
            "Epoch 7/100\n",
            "12/12 [==============================] - 1s 82ms/step - loss: 4.7280e-04 - val_loss: 0.0227\n",
            "Epoch 8/100\n",
            "12/12 [==============================] - 1s 81ms/step - loss: 4.5112e-04 - val_loss: 0.0228\n",
            "Epoch 9/100\n",
            "12/12 [==============================] - 1s 82ms/step - loss: 4.0713e-04 - val_loss: 0.0208\n",
            "Epoch 10/100\n",
            "12/12 [==============================] - 1s 82ms/step - loss: 3.9085e-04 - val_loss: 0.0216\n",
            "Epoch 11/100\n",
            "12/12 [==============================] - 1s 82ms/step - loss: 3.7911e-04 - val_loss: 0.0214\n",
            "Epoch 12/100\n",
            "12/12 [==============================] - 1s 83ms/step - loss: 3.5734e-04 - val_loss: 0.0192\n",
            "Epoch 13/100\n",
            "12/12 [==============================] - 1s 82ms/step - loss: 3.4183e-04 - val_loss: 0.0206\n",
            "Epoch 14/100\n",
            "12/12 [==============================] - 1s 83ms/step - loss: 3.4669e-04 - val_loss: 0.0189\n",
            "Epoch 15/100\n",
            "12/12 [==============================] - 1s 82ms/step - loss: 3.1071e-04 - val_loss: 0.0189\n",
            "Epoch 16/100\n",
            "12/12 [==============================] - 1s 83ms/step - loss: 3.1937e-04 - val_loss: 0.0171\n",
            "Epoch 17/100\n",
            "12/12 [==============================] - 1s 83ms/step - loss: 3.9397e-04 - val_loss: 0.0192\n",
            "Epoch 18/100\n",
            "12/12 [==============================] - 1s 83ms/step - loss: 3.3745e-04 - val_loss: 0.0159\n",
            "Epoch 19/100\n",
            "12/12 [==============================] - 1s 83ms/step - loss: 3.2985e-04 - val_loss: 0.0179\n",
            "Epoch 20/100\n",
            "12/12 [==============================] - 1s 84ms/step - loss: 3.5024e-04 - val_loss: 0.0145\n",
            "Epoch 21/100\n",
            "12/12 [==============================] - 1s 84ms/step - loss: 3.8104e-04 - val_loss: 0.0159\n",
            "Epoch 22/100\n",
            "12/12 [==============================] - 1s 82ms/step - loss: 2.8167e-04 - val_loss: 0.0158\n",
            "Epoch 23/100\n",
            "12/12 [==============================] - 1s 81ms/step - loss: 2.7350e-04 - val_loss: 0.0152\n",
            "Epoch 24/100\n",
            "12/12 [==============================] - 1s 81ms/step - loss: 2.7292e-04 - val_loss: 0.0149\n",
            "Epoch 25/100\n",
            "12/12 [==============================] - 1s 81ms/step - loss: 2.7139e-04 - val_loss: 0.0146\n",
            "Epoch 26/100\n",
            "12/12 [==============================] - 1s 81ms/step - loss: 2.8224e-04 - val_loss: 0.0134\n",
            "Epoch 27/100\n",
            "12/12 [==============================] - 1s 82ms/step - loss: 2.5140e-04 - val_loss: 0.0138\n",
            "Epoch 28/100\n",
            "12/12 [==============================] - 1s 83ms/step - loss: 2.4731e-04 - val_loss: 0.0137\n",
            "Epoch 29/100\n",
            "12/12 [==============================] - 1s 83ms/step - loss: 2.4428e-04 - val_loss: 0.0130\n",
            "Epoch 30/100\n",
            "12/12 [==============================] - 1s 81ms/step - loss: 2.4464e-04 - val_loss: 0.0123\n",
            "Epoch 31/100\n",
            "12/12 [==============================] - 1s 81ms/step - loss: 2.4269e-04 - val_loss: 0.0124\n",
            "Epoch 32/100\n",
            "12/12 [==============================] - 1s 82ms/step - loss: 2.3367e-04 - val_loss: 0.0123\n",
            "Epoch 33/100\n",
            "12/12 [==============================] - 1s 83ms/step - loss: 2.3194e-04 - val_loss: 0.0121\n",
            "Epoch 34/100\n",
            "12/12 [==============================] - 1s 83ms/step - loss: 2.3139e-04 - val_loss: 0.0119\n",
            "Epoch 35/100\n",
            "12/12 [==============================] - 1s 83ms/step - loss: 2.2187e-04 - val_loss: 0.0120\n",
            "Epoch 36/100\n",
            "12/12 [==============================] - 1s 83ms/step - loss: 2.2396e-04 - val_loss: 0.0114\n",
            "Epoch 37/100\n",
            "12/12 [==============================] - 1s 82ms/step - loss: 2.2200e-04 - val_loss: 0.0112\n",
            "Epoch 38/100\n",
            "12/12 [==============================] - 1s 83ms/step - loss: 2.3356e-04 - val_loss: 0.0109\n",
            "Epoch 39/100\n",
            "12/12 [==============================] - 1s 82ms/step - loss: 2.4345e-04 - val_loss: 0.0115\n",
            "Epoch 40/100\n",
            "12/12 [==============================] - 1s 80ms/step - loss: 2.4524e-04 - val_loss: 0.0103\n",
            "Epoch 41/100\n",
            "12/12 [==============================] - 1s 83ms/step - loss: 2.3073e-04 - val_loss: 0.0096\n",
            "Epoch 42/100\n",
            "12/12 [==============================] - 1s 84ms/step - loss: 3.3042e-04 - val_loss: 0.0116\n",
            "Epoch 43/100\n",
            "12/12 [==============================] - 1s 83ms/step - loss: 2.6971e-04 - val_loss: 0.0091\n",
            "Epoch 44/100\n",
            "12/12 [==============================] - 1s 83ms/step - loss: 2.3434e-04 - val_loss: 0.0106\n",
            "Epoch 45/100\n",
            "12/12 [==============================] - 1s 82ms/step - loss: 2.2224e-04 - val_loss: 0.0092\n",
            "Epoch 46/100\n",
            "12/12 [==============================] - 1s 82ms/step - loss: 2.0629e-04 - val_loss: 0.0096\n",
            "Epoch 47/100\n",
            "12/12 [==============================] - 1s 82ms/step - loss: 2.0736e-04 - val_loss: 0.0103\n",
            "Epoch 48/100\n",
            "12/12 [==============================] - 1s 82ms/step - loss: 2.6986e-04 - val_loss: 0.0088\n",
            "Epoch 49/100\n",
            "12/12 [==============================] - 1s 83ms/step - loss: 3.2863e-04 - val_loss: 0.0104\n",
            "Epoch 50/100\n",
            "12/12 [==============================] - 1s 80ms/step - loss: 2.3966e-04 - val_loss: 0.0085\n",
            "Epoch 51/100\n",
            "12/12 [==============================] - 1s 83ms/step - loss: 2.2635e-04 - val_loss: 0.0103\n",
            "Epoch 52/100\n",
            "12/12 [==============================] - 1s 82ms/step - loss: 2.4449e-04 - val_loss: 0.0087\n",
            "Epoch 53/100\n",
            "12/12 [==============================] - 1s 82ms/step - loss: 2.0127e-04 - val_loss: 0.0091\n",
            "Epoch 54/100\n",
            "12/12 [==============================] - 1s 84ms/step - loss: 2.0622e-04 - val_loss: 0.0087\n",
            "Epoch 55/100\n",
            "12/12 [==============================] - 1s 83ms/step - loss: 2.1647e-04 - val_loss: 0.0088\n",
            "Epoch 56/100\n",
            "12/12 [==============================] - 1s 83ms/step - loss: 1.9598e-04 - val_loss: 0.0084\n",
            "Epoch 57/100\n",
            "12/12 [==============================] - 1s 82ms/step - loss: 2.0205e-04 - val_loss: 0.0089\n",
            "Epoch 58/100\n",
            "12/12 [==============================] - 1s 85ms/step - loss: 2.0641e-04 - val_loss: 0.0082\n",
            "Epoch 59/100\n",
            "12/12 [==============================] - 1s 83ms/step - loss: 1.9768e-04 - val_loss: 0.0083\n",
            "Epoch 60/100\n",
            "12/12 [==============================] - 1s 83ms/step - loss: 1.9681e-04 - val_loss: 0.0083\n",
            "Epoch 61/100\n",
            "12/12 [==============================] - 1s 82ms/step - loss: 1.9194e-04 - val_loss: 0.0084\n",
            "Epoch 62/100\n",
            "12/12 [==============================] - 1s 83ms/step - loss: 1.7767e-04 - val_loss: 0.0084\n",
            "Epoch 63/100\n",
            "12/12 [==============================] - 1s 83ms/step - loss: 1.8223e-04 - val_loss: 0.0080\n",
            "Epoch 64/100\n",
            "12/12 [==============================] - 1s 82ms/step - loss: 1.8445e-04 - val_loss: 0.0082\n",
            "Epoch 65/100\n",
            "12/12 [==============================] - 1s 83ms/step - loss: 1.7271e-04 - val_loss: 0.0081\n",
            "Epoch 66/100\n",
            "12/12 [==============================] - 1s 84ms/step - loss: 1.7237e-04 - val_loss: 0.0077\n",
            "Epoch 67/100\n",
            "12/12 [==============================] - 1s 82ms/step - loss: 1.6788e-04 - val_loss: 0.0082\n",
            "Epoch 68/100\n",
            "12/12 [==============================] - 1s 82ms/step - loss: 1.8613e-04 - val_loss: 0.0072\n",
            "Epoch 69/100\n",
            "12/12 [==============================] - 1s 84ms/step - loss: 2.0819e-04 - val_loss: 0.0081\n",
            "Epoch 70/100\n",
            "12/12 [==============================] - 1s 83ms/step - loss: 1.7470e-04 - val_loss: 0.0073\n",
            "Epoch 71/100\n",
            "12/12 [==============================] - 1s 83ms/step - loss: 1.7829e-04 - val_loss: 0.0073\n",
            "Epoch 72/100\n",
            "12/12 [==============================] - 1s 84ms/step - loss: 1.8657e-04 - val_loss: 0.0076\n",
            "Epoch 73/100\n",
            "12/12 [==============================] - 1s 84ms/step - loss: 1.6593e-04 - val_loss: 0.0072\n",
            "Epoch 74/100\n",
            "12/12 [==============================] - 1s 82ms/step - loss: 1.7441e-04 - val_loss: 0.0076\n",
            "Epoch 75/100\n",
            "12/12 [==============================] - 1s 83ms/step - loss: 1.6250e-04 - val_loss: 0.0074\n",
            "Epoch 76/100\n",
            "12/12 [==============================] - 1s 83ms/step - loss: 1.5966e-04 - val_loss: 0.0074\n",
            "Epoch 77/100\n",
            "12/12 [==============================] - 1s 83ms/step - loss: 1.6792e-04 - val_loss: 0.0071\n",
            "Epoch 78/100\n",
            "12/12 [==============================] - 1s 82ms/step - loss: 1.6553e-04 - val_loss: 0.0073\n",
            "Epoch 79/100\n",
            "12/12 [==============================] - 1s 82ms/step - loss: 1.5954e-04 - val_loss: 0.0069\n",
            "Epoch 80/100\n",
            "12/12 [==============================] - 1s 83ms/step - loss: 1.5291e-04 - val_loss: 0.0071\n",
            "Epoch 81/100\n",
            "12/12 [==============================] - 1s 82ms/step - loss: 1.4999e-04 - val_loss: 0.0074\n",
            "Epoch 82/100\n",
            "12/12 [==============================] - 1s 83ms/step - loss: 1.5931e-04 - val_loss: 0.0069\n",
            "Epoch 83/100\n",
            "12/12 [==============================] - 1s 82ms/step - loss: 1.5133e-04 - val_loss: 0.0070\n",
            "Epoch 84/100\n",
            "12/12 [==============================] - 1s 82ms/step - loss: 1.5209e-04 - val_loss: 0.0069\n",
            "Epoch 85/100\n",
            "12/12 [==============================] - 1s 82ms/step - loss: 1.5236e-04 - val_loss: 0.0064\n",
            "Epoch 86/100\n",
            "12/12 [==============================] - 1s 84ms/step - loss: 1.9608e-04 - val_loss: 0.0066\n",
            "Epoch 87/100\n",
            "12/12 [==============================] - 1s 82ms/step - loss: 1.4650e-04 - val_loss: 0.0069\n",
            "Epoch 88/100\n",
            "12/12 [==============================] - 1s 84ms/step - loss: 1.6222e-04 - val_loss: 0.0065\n",
            "Epoch 89/100\n",
            "12/12 [==============================] - 1s 83ms/step - loss: 1.4469e-04 - val_loss: 0.0064\n",
            "Epoch 90/100\n",
            "12/12 [==============================] - 1s 84ms/step - loss: 1.5646e-04 - val_loss: 0.0062\n",
            "Epoch 91/100\n",
            "12/12 [==============================] - 1s 82ms/step - loss: 1.4316e-04 - val_loss: 0.0066\n",
            "Epoch 92/100\n",
            "12/12 [==============================] - 1s 82ms/step - loss: 1.6478e-04 - val_loss: 0.0064\n",
            "Epoch 93/100\n",
            "12/12 [==============================] - 1s 82ms/step - loss: 2.0581e-04 - val_loss: 0.0064\n",
            "Epoch 94/100\n",
            "12/12 [==============================] - 1s 83ms/step - loss: 1.6368e-04 - val_loss: 0.0058\n",
            "Epoch 95/100\n",
            "12/12 [==============================] - 1s 84ms/step - loss: 1.4421e-04 - val_loss: 0.0061\n",
            "Epoch 96/100\n",
            "12/12 [==============================] - 1s 83ms/step - loss: 1.4110e-04 - val_loss: 0.0060\n",
            "Epoch 97/100\n",
            "12/12 [==============================] - 1s 84ms/step - loss: 1.3901e-04 - val_loss: 0.0058\n",
            "Epoch 98/100\n",
            "12/12 [==============================] - 1s 81ms/step - loss: 1.4027e-04 - val_loss: 0.0062\n",
            "Epoch 99/100\n",
            "12/12 [==============================] - 1s 84ms/step - loss: 1.3728e-04 - val_loss: 0.0058\n",
            "Epoch 100/100\n",
            "12/12 [==============================] - 1s 82ms/step - loss: 1.4628e-04 - val_loss: 0.0057\n"
          ]
        },
        {
          "output_type": "execute_result",
          "data": {
            "text/plain": [
              "<keras.callbacks.History at 0x7fa440312510>"
            ]
          },
          "metadata": {},
          "execution_count": 21
        }
      ]
    },
    {
      "cell_type": "code",
      "metadata": {
        "id": "guyU7bUUCezh"
      },
      "source": [
        "import tensorflow as tf"
      ],
      "execution_count": 22,
      "outputs": []
    },
    {
      "cell_type": "code",
      "metadata": {
        "colab": {
          "base_uri": "https://localhost:8080/",
          "height": 35
        },
        "id": "ACSzirgkDM8m",
        "outputId": "e7e47203-e550-4571-96f6-df40c40b8f4d"
      },
      "source": [
        "tf.__version__"
      ],
      "execution_count": 23,
      "outputs": [
        {
          "output_type": "execute_result",
          "data": {
            "application/vnd.google.colaboratory.intrinsic+json": {
              "type": "string"
            },
            "text/plain": [
              "'2.6.0'"
            ]
          },
          "metadata": {},
          "execution_count": 23
        }
      ]
    },
    {
      "cell_type": "code",
      "metadata": {
        "id": "euOOouTWDPop"
      },
      "source": [
        "train_predict = model.predict(X_train)\n",
        "test_predict = model.predict(X_test)"
      ],
      "execution_count": 24,
      "outputs": []
    },
    {
      "cell_type": "code",
      "metadata": {
        "id": "6hNoIfASDcQg"
      },
      "source": [
        "train_predict = scaler.inverse_transform(train_predict)\n",
        "test_predict = scaler.inverse_transform(test_predict)"
      ],
      "execution_count": 25,
      "outputs": []
    },
    {
      "cell_type": "code",
      "metadata": {
        "colab": {
          "base_uri": "https://localhost:8080/"
        },
        "id": "niQ5loGKDzsb",
        "outputId": "941ab70d-9419-4f75-d004-7a19f31a5376"
      },
      "source": [
        "import math\n",
        "from sklearn.metrics import mean_squared_error\n",
        "math.sqrt(mean_squared_error(y_train, train_predict))"
      ],
      "execution_count": 26,
      "outputs": [
        {
          "output_type": "execute_result",
          "data": {
            "text/plain": [
              "194.00786825774932"
            ]
          },
          "metadata": {},
          "execution_count": 26
        }
      ]
    },
    {
      "cell_type": "code",
      "metadata": {
        "colab": {
          "base_uri": "https://localhost:8080/"
        },
        "id": "Yt0wP65oJkfD",
        "outputId": "41f83a98-d1f3-4faf-ce35-9fe12997a87e"
      },
      "source": [
        "math.sqrt(mean_squared_error(y_test, test_predict))"
      ],
      "execution_count": 27,
      "outputs": [
        {
          "output_type": "execute_result",
          "data": {
            "text/plain": [
              "193.50193513896286"
            ]
          },
          "metadata": {},
          "execution_count": 27
        }
      ]
    },
    {
      "cell_type": "code",
      "metadata": {
        "colab": {
          "base_uri": "https://localhost:8080/",
          "height": 265
        },
        "id": "eLOz1uUUJrBH",
        "outputId": "4ae2ead7-5d24-4efb-9680-f9bc6ee45402"
      },
      "source": [
        "look_back = 100\n",
        "trainPredictPlot = numpy.empty_like(df1)\n",
        "trainPredictPlot[:, :] = np.nan\n",
        "trainPredictPlot[look_back: len(train_predict)+look_back, :] = train_predict\n",
        "\n",
        "testPredictPlot = numpy.empty_like(df1)\n",
        "testPredictPlot[:, :] = np.nan\n",
        "testPredictPlot[len(train_predict)+(look_back*2)+1: len(df1)-1, :] = test_predict\n",
        "\n",
        "\n",
        "plt.plot(scaler.inverse_transform(df1))\n",
        "plt.plot(trainPredictPlot)\n",
        "plt.plot(testPredictPlot)\n",
        "plt.show()"
      ],
      "execution_count": 29,
      "outputs": [
        {
          "output_type": "display_data",
          "data": {
            "image/png": "[encoded data removed]",
            "text/plain": [
              "<Figure size 432x288 with 1 Axes>"
            ]
          },
          "metadata": {
            "needs_background": "light"
          }
        }
      ]
    },
    {
      "cell_type": "code",
      "metadata": {
        "colab": {
          "base_uri": "https://localhost:8080/"
        },
        "id": "ctoQKefnKsC9",
        "outputId": "c0d372b4-cc1d-46d6-a22e-b3ae36e06a4e"
      },
      "source": [
        "x_input = test_data[341:].reshape(1, -1)\n",
        "x_input.shape"
      ],
      "execution_count": 30,
      "outputs": [
        {
          "output_type": "execute_result",
          "data": {
            "text/plain": [
              "(1, 100)"
            ]
          },
          "metadata": {},
          "execution_count": 30
        }
      ]
    },
    {
      "cell_type": "code",
      "metadata": {
        "id": "y_tQ-1YRLDJ7"
      },
      "source": [
        "temp_input = list(x_input)\n",
        "temp_input = temp_input[0].tolist()"
      ],
      "execution_count": 31,
      "outputs": []
    },
    {
      "cell_type": "code",
      "metadata": {
        "colab": {
          "base_uri": "https://localhost:8080/"
        },
        "id": "tVaIS6aTLTyZ",
        "outputId": "0c51e68d-7009-4554-82e2-f0621aea3af4"
      },
      "source": [
        "# demonstrate prediction for next 10 days\n",
        "from numpy import array\n",
        "\n",
        "lst_output=[]\n",
        "n_steps=100\n",
        "i=0\n",
        "while(i<30):\n",
        "    \n",
        "    if(len(temp_input)>100):\n",
        "        #print(temp_input)\n",
        "        x_input=np.array(temp_input[1:])\n",
        "        x_input=x_input.reshape(1,-1)\n",
        "        x_input = x_input.reshape((1, n_steps, 1))\n",
        "   \n",
        "        yhat = model.predict(x_input, verbose=0)\n",
        "        \n",
        "        temp_input.extend(yhat[0].tolist())\n",
        "        temp_input=temp_input[1:]\n",
        "    \n",
        "        lst_output.extend(yhat.tolist())\n",
        "        i=i+1\n",
        "    else:\n",
        "        x_input = x_input.reshape((1, n_steps,1))\n",
        "        yhat = model.predict(x_input, verbose=0)\n",
        "        print(yhat[0])\n",
        "        temp_input.extend(yhat[0].tolist())\n",
        "        print(len(temp_input))\n",
        "        lst_output.extend(yhat.tolist())\n",
        "        i=i+1\n",
        "    \n",
        "\n",
        "print(lst_output)"
      ],
      "execution_count": 36,
      "outputs": [
        {
          "output_type": "stream",
          "name": "stdout",
          "text": [
            "[[0.1302674412727356], [0.13068397343158722], [0.13109393417835236], [0.13149745762348175], [0.13189463317394257], [0.13228553533554077], [0.13267022371292114], [0.13304877281188965], [0.13342119753360748], [0.133787602186203], [0.1341479867696762], [0.13450245559215546], [0.13485103845596313], [0.1351938247680664], [0.13553082942962646], [0.13586218655109406], [0.13618794083595276], [0.13650819659233093], [0.13682301342487335], [0.13713249564170837], [0.13743668794631958], [0.1377357691526413], [0.13802973926067352], [0.1383187621831894], [0.13860280811786652], [0.1388821005821228], [0.13915665447711945], [0.1394265592098236], [0.13969187438488007], [0.13995274901390076]]\n"
          ]
        }
      ]
    },
    {
      "cell_type": "code",
      "metadata": {
        "id": "hgBTyzR6MUqi"
      },
      "source": [
        "day_new=np.arange(1,101)\n",
        "day_pred=np.arange(101,131)"
      ],
      "execution_count": 37,
      "outputs": []
    },
    {
      "cell_type": "code",
      "metadata": {
        "id": "4ZZCd7W5NVhr"
      },
      "source": [
        "import matplotlib.pyplot as plt"
      ],
      "execution_count": 38,
      "outputs": []
    },
    {
      "cell_type": "code",
      "metadata": {
        "colab": {
          "base_uri": "https://localhost:8080/",
          "height": 283
        },
        "id": "FJ2WeSHFNXDl",
        "outputId": "77e69847-e0f7-4826-dd0c-47ad52aa74fe"
      },
      "source": [
        "plt.plot(day_new,scaler.inverse_transform(df1[1158:]))\n",
        "plt.plot(day_pred,scaler.inverse_transform(lst_output))"
      ],
      "execution_count": 39,
      "outputs": [
        {
          "output_type": "execute_result",
          "data": {
            "text/plain": [
              "[<matplotlib.lines.Line2D at 0x7fa3ac99d290>]"
            ]
          },
          "metadata": {},
          "execution_count": 39
        },
        {
          "output_type": "display_data",
          "data": {
            "image/png": "[encoded data removed]",
            "text/plain": [
              "<Figure size 432x288 with 1 Axes>"
            ]
          },
          "metadata": {
            "needs_background": "light"
          }
        }
      ]
    },
    {
      "cell_type": "code",
      "metadata": {
        "colab": {
          "base_uri": "https://localhost:8080/",
          "height": 283
        },
        "id": "QeINvJZyNnAX",
        "outputId": "cc70c288-e21b-47e6-e7cf-c8c5af886f1f"
      },
      "source": [
        "df3=df1.tolist()\n",
        "df3.extend(lst_output)\n",
        "plt.plot(df3[1200:])"
      ],
      "execution_count": 40,
      "outputs": [
        {
          "output_type": "execute_result",
          "data": {
            "text/plain": [
              "[<matplotlib.lines.Line2D at 0x7fa3ac9af750>]"
            ]
          },
          "metadata": {},
          "execution_count": 40
        },
        {
          "output_type": "display_data",
          "data": {
            "image/png": "[encoded data removed]",
            "text/plain": [
              "<Figure size 432x288 with 1 Axes>"
            ]
          },
          "metadata": {
            "needs_background": "light"
          }
        }
      ]
    },
    {
      "cell_type": "code",
      "metadata": {
        "id": "lx5Bhs6TNqFk"
      },
      "source": [
        "df3=scaler.inverse_transform(df3).tolist()"
      ],
      "execution_count": 41,
      "outputs": []
    },
    {
      "cell_type": "code",
      "metadata": {
        "colab": {
          "base_uri": "https://localhost:8080/",
          "height": 283
        },
        "id": "VTIL-TA2Ns4O",
        "outputId": "e7add50d-5cee-4bbb-e618-9bc31c9be540"
      },
      "source": [
        "plt.plot(df3)"
      ],
      "execution_count": 42,
      "outputs": [
        {
          "output_type": "execute_result",
          "data": {
            "text/plain": [
              "[<matplotlib.lines.Line2D at 0x7fa3ac8a9c90>]"
            ]
          },
          "metadata": {},
          "execution_count": 42
        },
        {
          "output_type": "display_data",
          "data": {
            "image/png": "[encoded data removed]",
            "text/plain": [
              "<Figure size 432x288 with 1 Axes>"
            ]
          },
          "metadata": {
            "needs_background": "light"
          }
        }
      ]
    },
    {
      "cell_type": "code",
      "metadata": {
        "id": "vIccYGs6NuzA"
      },
      "source": [
        ""
      ],
      "execution_count": null,
      "outputs": []
    }
  ]
}